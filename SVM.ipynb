{
 "cells": [
  {
   "cell_type": "markdown",
   "metadata": {},
   "source": [
    "### 線形分離可能な場合(バイアス項あり)"
   ]
  },
  {
   "cell_type": "code",
   "execution_count": 1,
   "metadata": {},
   "outputs": [],
   "source": [
    "import numpy as np\n",
    "import time\n",
    "from scipy import linalg as la"
   ]
  },
  {
   "cell_type": "code",
   "execution_count": 14,
   "metadata": {},
   "outputs": [
    {
     "name": "stdout",
     "output_type": "stream",
     "text": [
      "365\n",
      "[[0.        ]\n",
      " [0.71873004]\n",
      " [0.        ]\n",
      " [0.65622735]\n",
      " [0.        ]\n",
      " [0.43749286]]\n"
     ]
    }
   ],
   "source": [
    "#バイアス項あり\n",
    "x = np.matrix([[2,3,2],[1,2,2],[0,3,2],[1,0,2],[0,-1,2],[-1,1,2]])\n",
    "y = np.matrix([1,1,1,-1,-1,-1])\n",
    "\n",
    "Y = y.T*y\n",
    "R = x * x.T\n",
    "Y =np.array(Y)\n",
    "R =np.array(R)\n",
    "\n",
    "A=Y*R\n",
    "sikii =0.000001\n",
    "\n",
    "a0= np.matrix([0,0,0,0,0,0])\n",
    "iti = np.matrix([1,1,1,1,1,1])\n",
    "A =np.matrix(A)\n",
    "c=0.02\n",
    "\n",
    "\n",
    "ap = a0.T\n",
    "\n",
    "for i in range(1000):\n",
    "    Lap = -A*ap+iti.T\n",
    "    a = ap + c*Lap\n",
    "    for j in range(6):\n",
    "        if(a[j-1]<0):\n",
    "            a[j-1]=0\n",
    "    if(np.linalg.norm(a-ap, ord=2)<sikii): break\n",
    "    #print (i, ':' , a)\n",
    "    ap = a\n",
    "print(i)\n",
    "print(a)"
   ]
  },
  {
   "cell_type": "markdown",
   "metadata": {},
   "source": [
    "### 線形分離可能(バイアス項なし)"
   ]
  },
  {
   "cell_type": "code",
   "execution_count": 15,
   "metadata": {},
   "outputs": [
    {
     "name": "stdout",
     "output_type": "stream",
     "text": [
      "30\n",
      "[[0.        ]\n",
      " [0.49999928]\n",
      " [0.        ]\n",
      " [0.49999928]\n",
      " [0.        ]\n",
      " [0.25      ]]\n"
     ]
    }
   ],
   "source": [
    "#バイアス項あり\n",
    "x = np.matrix([[1,2],[0,1],[-1,2],[0,-1],[-1,-2],[-2,0]])\n",
    "y = np.matrix([1,1,1,-1,-1,-1])\n",
    "\n",
    "Y = y.T*y\n",
    "R = x * x.T\n",
    "Y =np.array(Y)\n",
    "R =np.array(R)\n",
    "\n",
    "A=Y*R\n",
    "sikii =0.000001\n",
    "\n",
    "a0= np.matrix([0,0,0,0,0,0])\n",
    "iti = np.matrix([1,1,1,1,1,1])\n",
    "A =np.matrix(A)\n",
    "c=0.2\n",
    "\n",
    "\n",
    "ap = a0.T\n",
    "\n",
    "for i in range(100):\n",
    "    Lap = -A*ap+iti.T\n",
    "    a = ap + c*Lap\n",
    "    for j in range(6):\n",
    "        if(a[j-1]<0):\n",
    "            a[j-1]=0\n",
    "    if(np.linalg.norm(a-ap, ord=2)<sikii): break\n",
    "    #print (i, ':' , a)\n",
    "    ap = a\n",
    "print(i)\n",
    "print(a)"
   ]
  },
  {
   "cell_type": "markdown",
   "metadata": {},
   "source": [
    "### 線形分離不可能(Cを与えない場合)"
   ]
  },
  {
   "cell_type": "code",
   "execution_count": 16,
   "metadata": {},
   "outputs": [
    {
     "name": "stdout",
     "output_type": "stream",
     "text": [
      "999\n",
      "[[0.00000000e+000]\n",
      " [0.00000000e+000]\n",
      " [0.00000000e+000]\n",
      " [0.00000000e+000]\n",
      " [0.00000000e+000]\n",
      " [0.00000000e+000]\n",
      " [4.54468687e+114]\n",
      " [3.64561877e+114]]\n"
     ]
    }
   ],
   "source": [
    "#バイアス項あり\n",
    "x = np.matrix([[1,2,1],[0,1,1],[-1,0,1],[-1,2,1],[0,-1,1],[-1,-2,1],[-1,1,1],[-2,0,1]])\n",
    "y = np.matrix([1,1,1,1,-1,-1,-1,-1])\n",
    "\n",
    "Y = y.T*y\n",
    "R = x * x.T\n",
    "Y =np.array(Y)\n",
    "R =np.array(R)\n",
    "\n",
    "A=Y*R\n",
    "sikii =0.000001\n",
    "\n",
    "a0= np.matrix([0,0,0,0,0,0,0,0])\n",
    "iti = np.matrix([1,1,1,1,1,1,1,1])\n",
    "A =np.matrix(A)\n",
    "c=0.2\n",
    "\n",
    "\n",
    "ap = a0.T\n",
    "\n",
    "for i in range(1000):\n",
    "    Lap = -A*ap+iti.T\n",
    "    a = ap + c*Lap\n",
    "    for j in range(8):\n",
    "        if(a[j-1]<0):\n",
    "            a[j-1]=0\n",
    "    if(np.linalg.norm(a-ap, ord=2)<sikii): break\n",
    "    #print (i, ':' , a)\n",
    "    #time.sleep(1)\n",
    "    #print(a)\n",
    "    ap = a\n",
    "print(i)\n",
    "print(a)"
   ]
  },
  {
   "cell_type": "markdown",
   "metadata": {},
   "source": [
    "### 線形分離不可能(Cを与えた場合)"
   ]
  },
  {
   "cell_type": "code",
   "execution_count": 17,
   "metadata": {},
   "outputs": [
    {
     "name": "stdout",
     "output_type": "stream",
     "text": [
      "233\n",
      "[[0.        ]\n",
      " [3.06084774]\n",
      " [5.        ]\n",
      " [0.        ]\n",
      " [2.82981892]\n",
      " [0.        ]\n",
      " [5.        ]\n",
      " [0.25136626]]\n"
     ]
    }
   ],
   "source": [
    "#バイアス項あり\n",
    "x = np.matrix([[1,2,1],[0,1,1],[-1,0,1],[-1,2,1],[0,-1,1],[-1,-2,1],[-1,1,1],[-2,0,1]])\n",
    "y = np.matrix([1,1,1,1,-1,-1,-1,-1])\n",
    "\n",
    "Y = y.T*y\n",
    "R = x * x.T\n",
    "Y =np.array(Y)\n",
    "R =np.array(R)\n",
    "\n",
    "A=Y*R\n",
    "threshold =0.01\n",
    "\n",
    "a0= np.matrix([0,0,0,0,0,0,0,0])\n",
    "#a0= np.matrix([0.01,0.01,0.01,0.01,0.01,0.01,0.01,0.01])\n",
    "iti = np.matrix([1,1,1,1,1,1,1,1])\n",
    "A =np.matrix(A)\n",
    "c=0.05\n",
    "C=5#制御パラメータ\n",
    "\n",
    "ap = a0.T\n",
    "\n",
    "for i in range(10000):\n",
    "    Lap = -A*ap+iti.T\n",
    "    a = ap + c*Lap\n",
    "    for j in range(8):\n",
    "        if(a[j-1]<0):\n",
    "            a[j-1]=0\n",
    "        if(a[j-1]>C):\n",
    "            a[j-1]=C\n",
    "    if(np.linalg.norm(a-ap, ord=2)<threshold): break\n",
    "    #print (i, ':' , a)\n",
    "    ap = a\n",
    "print(i)\n",
    "print(a)"
   ]
  },
  {
   "cell_type": "code",
   "execution_count": null,
   "metadata": {},
   "outputs": [],
   "source": []
  }
 ],
 "metadata": {
  "kernelspec": {
   "display_name": "Python 3",
   "language": "python",
   "name": "python3"
  },
  "language_info": {
   "codemirror_mode": {
    "name": "ipython",
    "version": 3
   },
   "file_extension": ".py",
   "mimetype": "text/x-python",
   "name": "python",
   "nbconvert_exporter": "python",
   "pygments_lexer": "ipython3",
   "version": "3.6.5"
  }
 },
 "nbformat": 4,
 "nbformat_minor": 2
}
